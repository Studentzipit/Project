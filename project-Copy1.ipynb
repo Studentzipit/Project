{
 "cells": [
  {
   "cell_type": "markdown",
   "id": "2cb7ef5d-98cf-46c7-bab6-7fb158846d4a",
   "metadata": {},
   "source": [
    "# Project OAS Open Alex Search (Submit 5/1/2024 LATE)\n",
    "\n",
    "The project should provide some useful functionality in science or engineering. It could be a command line utility, or a package to use in notebooks. There should be some substance, but it does not need to be extensive. I don't expect it should take more than a few hours to write the code. It is not necessary to write very sophisticated code. Overall the project should demonstrate you have learned something in this class.\n",
    "\n",
    "1. The project must be pip installable\n",
    "2. Your project should utilize git, and there should be a version history.\n",
    "3. Your project should have some tests.\n",
    "4. Your project should use at least one code quality tool.\n",
    "5. Your project should have a readme.md and LICENSE file.\n",
    "6. The code should be well documented.\n",
    "7. The code should be original work.\n",
    "8. You should push it to a GitHUB repo.\n",
    "\n",
    "At the end of the mini you will give a live demonstration of your project and what it does.\n",
    "\n",
    " \n"
   ]
  },
  {
   "cell_type": "markdown",
   "id": "b6d41fdc",
   "metadata": {},
   "source": [
    "Before you turn this problem in, make sure everything runs as expected. First, **restart the kernel** (in the menubar, select Kernel$\\rightarrow$Restart) and then **run all cells** (in the menubar, select Cell$\\rightarrow$Run All).\n",
    "\n",
    "Make sure you fill in any place that says `YOUR CODE HERE` or \"YOUR ANSWER HERE\", as well as your name and collaborators below:\n",
    "\n"
   ]
  },
  {
   "cell_type": "code",
   "execution_count": 1,
   "id": "a464c58c",
   "metadata": {},
   "outputs": [],
   "source": [
    "NAME = \"ZACHARY THOMPSON\"\n",
    "COLLABORATORS = \"\"\n",
    "\n"
   ]
  },
  {
   "cell_type": "code",
   "execution_count": 2,
   "id": "b7e1bd09-95c8-453f-ad51-a86e9077a95e",
   "metadata": {},
   "outputs": [],
   "source": [
    "#Hit roadblocks regarding corporate login for Elsevier and Patbase Express. May make one for OpenAlex"
   ]
  },
  {
   "cell_type": "markdown",
   "id": "4fcd0ddc-b1d0-4b84-9c63-11f0f6b4baad",
   "metadata": {},
   "source": [
    "# Project Title: Project OAS Open Alex Search "
   ]
  },
  {
   "cell_type": "markdown",
   "id": "91ee03be-6b1d-4eb7-a423-066e45d0977c",
   "metadata": {},
   "source": [
    "## Project demo\n",
    "In these cells show how your project is installed, and how it is used. If it is a CLI use %%bash cells to illustrate it. Or import the library and show what it does."
   ]
  },
  {
   "cell_type": "code",
   "execution_count": null,
   "id": "9b312344-d9c4-47d3-b283-2040f6a5c181",
   "metadata": {},
   "outputs": [],
   "source": []
  },
  {
   "cell_type": "markdown",
   "id": "fb1f65ed-b7b5-4926-a107-834f3ce5afe1",
   "metadata": {},
   "source": [
    "## Uninstall Existing Packages \n",
    "First remove all existing files in package directory to prevent errors"
   ]
  },
  {
   "cell_type": "code",
   "execution_count": 3,
   "id": "1b6f8d47-4c4d-4afc-9084-8194e840075b",
   "metadata": {},
   "outputs": [
    {
     "name": "stderr",
     "output_type": "stream",
     "text": [
      "WARNING: Skipping Project as it is not installed.\n"
     ]
    }
   ],
   "source": [
    "#! rm -fr ProjectOAS-Root\n",
    "! pip uninstall -y Project"
   ]
  },
  {
   "cell_type": "markdown",
   "id": "411641b0-c230-4280-a1de-cd38388b35bc",
   "metadata": {},
   "source": [
    "Next install files in package directory."
   ]
  },
  {
   "cell_type": "markdown",
   "id": "7956e695-2ebd-4e8d-86c2-2ab530aef703",
   "metadata": {},
   "source": [
    "## Installing package"
   ]
  },
  {
   "cell_type": "markdown",
   "id": "e3045f01-cd4a-4674-bc2c-67603840d541",
   "metadata": {},
   "source": [
    "Create a new directory"
   ]
  },
  {
   "cell_type": "code",
   "execution_count": 9,
   "id": "18586fb7-8e76-43c3-b4ca-a51cd9953d6a",
   "metadata": {},
   "outputs": [
    {
     "name": "stdout",
     "output_type": "stream",
     "text": [
      "Couldn't find program: 'bash'\n"
     ]
    }
   ],
   "source": [
    "%%bash\n",
    "git clone https://github.com/Studentzipit/Project.git"
   ]
  },
  {
   "cell_type": "code",
   "execution_count": 5,
   "id": "aafcaeac-8abb-496f-9491-7a386130b832",
   "metadata": {},
   "outputs": [
    {
     "name": "stdout",
     "output_type": "stream",
     "text": [
      "Couldn't find program: 'bash'\n"
     ]
    }
   ],
   "source": [
    "%%bash\n",
    "mkdir -p Project/ProjectOAS-Root/OASpackage\n",
    "cd ProjectOAS-Root"
   ]
  },
  {
   "cell_type": "code",
   "execution_count": 6,
   "id": "6b94cc57-cb07-4e3c-a97e-c270368c3728",
   "metadata": {},
   "outputs": [],
   "source": [
    "# import sys\n",
    "# sys.path.insert(0, 'Project')\n",
    "# import ProjectOAS"
   ]
  },
  {
   "cell_type": "markdown",
   "id": "644a667a-35e9-4792-bb15-5c9b06d11505",
   "metadata": {},
   "source": [
    "Ask where are we?"
   ]
  },
  {
   "cell_type": "code",
   "execution_count": 7,
   "id": "72436bc5-8802-4af7-a6b2-19d9a35a0c30",
   "metadata": {},
   "outputs": [
    {
     "data": {
      "text/plain": [
       "'C:\\\\Users\\\\C005106\\\\OneDrive - PPG Industries, Inc\\\\!My Files\\\\Retention Compliant\\\\s24-06643\\\\assignments\\\\project'"
      ]
     },
     "execution_count": 7,
     "metadata": {},
     "output_type": "execute_result"
    }
   ],
   "source": [
    "pwd"
   ]
  },
  {
   "cell_type": "markdown",
   "id": "675d7251-3f3d-4aa5-87cb-75af976c38f9",
   "metadata": {},
   "source": [
    "##### Create a setup file for the OASpackage"
   ]
  },
  {
   "cell_type": "code",
   "execution_count": 24,
   "id": "dbedb992-3c03-4b15-a7e1-4f41250dfb9f",
   "metadata": {},
   "outputs": [
    {
     "name": "stdout",
     "output_type": "stream",
     "text": [
      "Writing ProjectOAS-Root/setup.py\n"
     ]
    },
    {
     "ename": "FileNotFoundError",
     "evalue": "[Errno 2] No such file or directory: 'ProjectOAS-Root/setup.py'",
     "output_type": "error",
     "traceback": [
      "\u001b[0;31m---------------------------------------------------------------------------\u001b[0m",
      "\u001b[0;31mFileNotFoundError\u001b[0m                         Traceback (most recent call last)",
      "Input \u001b[0;32mIn [24]\u001b[0m, in \u001b[0;36m<cell line: 1>\u001b[0;34m()\u001b[0m\n\u001b[0;32m----> 1\u001b[0m \u001b[43mget_ipython\u001b[49m\u001b[43m(\u001b[49m\u001b[43m)\u001b[49m\u001b[38;5;241;43m.\u001b[39;49m\u001b[43mrun_cell_magic\u001b[49m\u001b[43m(\u001b[49m\u001b[38;5;124;43m'\u001b[39;49m\u001b[38;5;124;43mwritefile\u001b[39;49m\u001b[38;5;124;43m'\u001b[39;49m\u001b[43m,\u001b[49m\u001b[43m \u001b[49m\u001b[38;5;124;43m'\u001b[39;49m\u001b[38;5;124;43mProjectOAS-Root/setup.py\u001b[39;49m\u001b[38;5;124;43m'\u001b[39;49m\u001b[43m,\u001b[49m\u001b[43m \u001b[49m\u001b[38;5;124;43m\"\u001b[39;49m\u001b[38;5;124;43mfrom setuptools import setup\u001b[39;49m\u001b[38;5;130;43;01m\\n\u001b[39;49;00m\u001b[38;5;130;43;01m\\n\u001b[39;49;00m\u001b[38;5;124;43msetup(name=\u001b[39;49m\u001b[38;5;124;43m'\u001b[39;49m\u001b[38;5;124;43mOASPackage\u001b[39;49m\u001b[38;5;124;43m'\u001b[39;49m\u001b[38;5;124;43m,\u001b[39;49m\u001b[38;5;130;43;01m\\n\u001b[39;49;00m\u001b[38;5;124;43m      version=\u001b[39;49m\u001b[38;5;124;43m'\u001b[39;49m\u001b[38;5;124;43m0.0.1\u001b[39;49m\u001b[38;5;124;43m'\u001b[39;49m\u001b[38;5;124;43m,\u001b[39;49m\u001b[38;5;130;43;01m\\n\u001b[39;49;00m\u001b[38;5;124;43m      description=\u001b[39;49m\u001b[38;5;124;43m'\u001b[39;49m\u001b[38;5;124;43mOpenAlex Search PIP installable package\u001b[39;49m\u001b[38;5;124;43m'\u001b[39;49m\u001b[38;5;124;43m,\u001b[39;49m\u001b[38;5;130;43;01m\\n\u001b[39;49;00m\u001b[38;5;124;43m      maintainer=\u001b[39;49m\u001b[38;5;124;43m'\u001b[39;49m\u001b[38;5;124;43mZachary Thompson\u001b[39;49m\u001b[38;5;124;43m'\u001b[39;49m\u001b[38;5;124;43m,\u001b[39;49m\u001b[38;5;130;43;01m\\n\u001b[39;49;00m\u001b[38;5;124;43m      maintainer_email=\u001b[39;49m\u001b[38;5;124;43m'\u001b[39;49m\u001b[38;5;124;43mzpt@andrew.cmu.edu\u001b[39;49m\u001b[38;5;124;43m'\u001b[39;49m\u001b[38;5;124;43m,\u001b[39;49m\u001b[38;5;130;43;01m\\n\u001b[39;49;00m\u001b[38;5;124;43m      license=\u001b[39;49m\u001b[38;5;124;43m'\u001b[39;49m\u001b[38;5;124;43mMIT\u001b[39;49m\u001b[38;5;124;43m'\u001b[39;49m\u001b[38;5;124;43m,\u001b[39;49m\u001b[38;5;130;43;01m\\n\u001b[39;49;00m\u001b[38;5;124;43m      packages=[\u001b[39;49m\u001b[38;5;124;43m'\u001b[39;49m\u001b[38;5;124;43mOASpackage\u001b[39;49m\u001b[38;5;124;43m'\u001b[39;49m\u001b[38;5;124;43m],\u001b[39;49m\u001b[38;5;130;43;01m\\n\u001b[39;49;00m\u001b[38;5;124;43m      scripts=[],\u001b[39;49m\u001b[38;5;130;43;01m\\n\u001b[39;49;00m\u001b[38;5;124;43m      long_description=\u001b[39;49m\u001b[38;5;124;43m'\u001b[39;49m\u001b[38;5;124;43m'\u001b[39;49m\u001b[38;5;124;43m'\u001b[39;49m\u001b[38;5;130;43;01m\\n\u001b[39;49;00m\u001b[38;5;124;43mOASpackage utilities\u001b[39;49m\u001b[38;5;130;43;01m\\n\u001b[39;49;00m\u001b[38;5;124;43m==============\u001b[39;49m\u001b[38;5;130;43;01m\\n\u001b[39;49;00m\u001b[38;5;124;43mPackage utilities for s24-06643 OpenAlex Search project.\u001b[39;49m\u001b[38;5;124;43m'\u001b[39;49m\u001b[38;5;124;43m'\u001b[39;49m\u001b[38;5;124;43m'\u001b[39;49m\u001b[38;5;130;43;01m\\n\u001b[39;49;00m\u001b[38;5;124;43m     install_requires=[\u001b[39;49m\u001b[38;5;130;43;01m\\n\u001b[39;49;00m\u001b[38;5;124;43m         \u001b[39;49m\u001b[38;5;124;43m'\u001b[39;49m\u001b[38;5;124;43mmatplotlib\u001b[39;49m\u001b[38;5;124;43m'\u001b[39;49m\u001b[38;5;124;43m, #MatPlotLib dependency\u001b[39;49m\u001b[38;5;130;43;01m\\n\u001b[39;49;00m\u001b[38;5;124;43m         \u001b[39;49m\u001b[38;5;124;43m'\u001b[39;49m\u001b[38;5;124;43mrequests\u001b[39;49m\u001b[38;5;124;43m'\u001b[39;49m\u001b[38;5;124;43m],\u001b[39;49m\u001b[38;5;130;43;01m\\n\u001b[39;49;00m\u001b[38;5;124;43m     )\u001b[39;49m\u001b[38;5;130;43;01m\\n\u001b[39;49;00m\u001b[38;5;124;43m\"\u001b[39;49m\u001b[43m)\u001b[49m\n",
      "File \u001b[0;32m/opt/tljh/user/lib/python3.9/site-packages/IPython/core/interactiveshell.py:2358\u001b[0m, in \u001b[0;36mInteractiveShell.run_cell_magic\u001b[0;34m(self, magic_name, line, cell)\u001b[0m\n\u001b[1;32m   2356\u001b[0m \u001b[38;5;28;01mwith\u001b[39;00m \u001b[38;5;28mself\u001b[39m\u001b[38;5;241m.\u001b[39mbuiltin_trap:\n\u001b[1;32m   2357\u001b[0m     args \u001b[38;5;241m=\u001b[39m (magic_arg_s, cell)\n\u001b[0;32m-> 2358\u001b[0m     result \u001b[38;5;241m=\u001b[39m \u001b[43mfn\u001b[49m\u001b[43m(\u001b[49m\u001b[38;5;241;43m*\u001b[39;49m\u001b[43margs\u001b[49m\u001b[43m,\u001b[49m\u001b[43m \u001b[49m\u001b[38;5;241;43m*\u001b[39;49m\u001b[38;5;241;43m*\u001b[39;49m\u001b[43mkwargs\u001b[49m\u001b[43m)\u001b[49m\n\u001b[1;32m   2359\u001b[0m \u001b[38;5;28;01mreturn\u001b[39;00m result\n",
      "File \u001b[0;32m/opt/tljh/user/lib/python3.9/site-packages/IPython/core/magics/osm.py:853\u001b[0m, in \u001b[0;36mOSMagics.writefile\u001b[0;34m(self, line, cell)\u001b[0m\n\u001b[1;32m    850\u001b[0m     \u001b[38;5;28mprint\u001b[39m(\u001b[38;5;124m\"\u001b[39m\u001b[38;5;124mWriting \u001b[39m\u001b[38;5;132;01m%s\u001b[39;00m\u001b[38;5;124m\"\u001b[39m \u001b[38;5;241m%\u001b[39m filename)\n\u001b[1;32m    852\u001b[0m mode \u001b[38;5;241m=\u001b[39m \u001b[38;5;124m'\u001b[39m\u001b[38;5;124ma\u001b[39m\u001b[38;5;124m'\u001b[39m \u001b[38;5;28;01mif\u001b[39;00m args\u001b[38;5;241m.\u001b[39mappend \u001b[38;5;28;01melse\u001b[39;00m \u001b[38;5;124m'\u001b[39m\u001b[38;5;124mw\u001b[39m\u001b[38;5;124m'\u001b[39m\n\u001b[0;32m--> 853\u001b[0m \u001b[38;5;28;01mwith\u001b[39;00m \u001b[43mio\u001b[49m\u001b[38;5;241;43m.\u001b[39;49m\u001b[43mopen\u001b[49m\u001b[43m(\u001b[49m\u001b[43mfilename\u001b[49m\u001b[43m,\u001b[49m\u001b[43m \u001b[49m\u001b[43mmode\u001b[49m\u001b[43m,\u001b[49m\u001b[43m \u001b[49m\u001b[43mencoding\u001b[49m\u001b[38;5;241;43m=\u001b[39;49m\u001b[38;5;124;43m'\u001b[39;49m\u001b[38;5;124;43mutf-8\u001b[39;49m\u001b[38;5;124;43m'\u001b[39;49m\u001b[43m)\u001b[49m \u001b[38;5;28;01mas\u001b[39;00m f:\n\u001b[1;32m    854\u001b[0m     f\u001b[38;5;241m.\u001b[39mwrite(cell)\n",
      "\u001b[0;31mFileNotFoundError\u001b[0m: [Errno 2] No such file or directory: 'ProjectOAS-Root/setup.py'"
     ]
    }
   ],
   "source": [
    "%%writefile ProjectOAS-Root/setup.py\n",
    "from setuptools import setup\n",
    "\n",
    "setup(name='OASPackage',\n",
    "      version='0.0.1',\n",
    "      description='OpenAlex Search PIP installable package',\n",
    "      maintainer='Zachary Thompson',\n",
    "      maintainer_email='zpt@andrew.cmu.edu',\n",
    "      license='MIT',\n",
    "      packages=['OASpackage'],\n",
    "      scripts=[],\n",
    "      long_description='''\n",
    "OASpackage utilities\n",
    "==============\n",
    "Package utilities for s24-06643 OpenAlex Search project.'''\n",
    "     install_requires=[\n",
    "         'matplotlib', #MatPlotLib dependency\n",
    "         'requests'],\n",
    "     )"
   ]
  },
  {
   "cell_type": "code",
   "execution_count": 26,
   "id": "6beb50b5-5023-4d2e-9480-5f7508c9fc31",
   "metadata": {},
   "outputs": [
    {
     "ename": "SyntaxError",
     "evalue": "invalid syntax (<ipython-input-26-100a67ec78e7>, line 3)",
     "output_type": "error",
     "traceback": [
      "\u001b[0;36m  Input \u001b[0;32mIn [26]\u001b[0;36m\u001b[0m\n\u001b[0;31m    pip install -r\u001b[0m\n\u001b[0m        ^\u001b[0m\n\u001b[0;31mSyntaxError\u001b[0m\u001b[0;31m:\u001b[0m invalid syntax\n"
     ]
    }
   ],
   "source": [
    "#PIP Installed\n",
    "#Purpose to read .txt files of gcode to relay basic info about the 3D print and detect errors.\n",
    "pip install -r\n",
    "import requests\n",
    "\n",
    "Based on lecture notes, print works_count and cited_by_count\n",
    "\n",
    "import base64\n",
    "\n",
    "import matplotlib.pyplot as plt\n",
    "from IPython.core.pylabtools import print_figure\n",
    "\n",
    "\n",
    "class Works:\n",
    "    def __init__(self, oaid):\n",
    "        self.oaid = oaid\n",
    "        self.req = requests.get(f\"https://api.openalex.org/works/{oaid}\")\n",
    "        self.data = self.req.json()\n",
    "\n",
    "    def __str__(self):\n",
    "        return \"str\"\n",
    "\n",
    "    def __repr__(self):\n",
    "        _authors = [au[\"author\"][\"display_name\"] for au in self.data[\"authorships\"]]\n",
    "        if len(_authors) == 1:\n",
    "            authors = _authors[0]\n",
    "        else:\n",
    "            authors = \", \".join(_authors[0:-1]) + \" and\" + _authors[-1]\n",
    "\n",
    "        title = self.data[\"title\"]\n",
    "\n",
    "        journal = self.data[\"primary_location\"][\"source\"][\"display_name\"]\n",
    "        volume = self.data[\"biblio\"][\"volume\"]\n",
    "\n",
    "        issue = self.data[\"biblio\"][\"issue\"]\n",
    "        if issue is None:\n",
    "            issue = \", \"\n",
    "        else:\n",
    "            issue = \", \" + issue\n",
    "\n",
    "        pages = \"-\".join(\n",
    "            [self.data[\"biblio\"][\"first_page\"], self.data[\"biblio\"][\"last_page\"]]\n",
    "        )\n",
    "        year = self.data[\"publication_year\"]\n",
    "        citedby = self.data[\"cited_by_count\"]\n",
    "\n",
    "        oa = self.data[\"id\"]\n",
    "        s = f'{authors}, {title}, {volume}{issue}{pages}, ({year}), {self.data[\"doi\"]}. cited by: {citedby}. {oa}'\n",
    "        return s\n",
    "\n",
    "    def _repr_markdown_(self):\n",
    "        _authors = [\n",
    "            f'[{au[\"author\"][\"display_name\"]}]({au[\"author\"][\"id\"]})'\n",
    "            for au in self.data[\"authorships\"]\n",
    "        ]\n",
    "        if len(_authors) == 1:\n",
    "            authors = _authors[0]\n",
    "        else:\n",
    "            authors = \", \".join(_authors[0:-1]) + \" and \" + _authors[-1]\n",
    "\n",
    "        title = self.data[\"title\"]\n",
    "\n",
    "        jname = self.data[\"primary_location\"][\"source\"][\"display_name\"]\n",
    "        jurl = self.data[\"primary_location\"][\"source\"][\"id\"]\n",
    "        journal = f\"[{jname}]({jurl})\"\n",
    "        volume = self.data[\"biblio\"][\"volume\"]\n",
    "\n",
    "        issue = self.data[\"biblio\"][\"issue\"]\n",
    "        if issue is None:\n",
    "            issue = \", \"\n",
    "        else:\n",
    "            issue = \", \" + issue\n",
    "\n",
    "        pages = \"-\".join(\n",
    "            [self.data[\"biblio\"][\"first_page\"], self.data[\"biblio\"][\"last_page\"]]\n",
    "        )\n",
    "        year = self.data[\"publication_year\"]\n",
    "        citedby = self.data[\"cited_by_count\"]\n",
    "\n",
    "        oa = self.data[\"id\"]\n",
    "\n",
    "        # Citation counts by year\n",
    "        years = [e[\"year\"] for e in self.data[\"counts_by_year\"]]\n",
    "        counts = [e[\"cited_by_count\"] for e in self.data[\"counts_by_year\"]]\n",
    "\n",
    "        fig, ax = plt.subplots()\n",
    "        ax.bar(years, counts)\n",
    "        ax.set_xlabel(\"year\")\n",
    "        ax.set_ylabel(\"citation count\")\n",
    "        data = print_figure(fig, \"png\")  # save figure in string\n",
    "        plt.close(fig)\n",
    "\n",
    "        b64 = base64.b64encode(data).decode(\"utf8\")\n",
    "        citefig = f\"![img](data:image/png;base64,{b64})\"\n",
    "\n",
    "        s = f'{authors}, *{title}*, **{journal}**, {volume}{issue}{pages}, ({year}), {self.data[\"doi\"]}. cited by: {citedby}. [Open Alex]({oa})'\n",
    "\n",
    "        s += \"<br>\" + citefig\n",
    "        return s\n",
    "\n",
    "\n",
    "w = Works(\"https://doi.org/10.1021/acscatal.5b00538\")\n",
    "w\n"
   ]
  },
  {
   "cell_type": "markdown",
   "id": "07c33c5b-b55c-4491-a2ff-1a1340c66e49",
   "metadata": {},
   "source": [
    "## README"
   ]
  },
  {
   "cell_type": "code",
   "execution_count": 20,
   "id": "5f2af805-29af-40c3-9354-4328ac1465dd",
   "metadata": {},
   "outputs": [
    {
     "name": "stdout",
     "output_type": "stream",
     "text": [
      "Writing Project-Root/README.md\n"
     ]
    },
    {
     "ename": "FileNotFoundError",
     "evalue": "[Errno 2] No such file or directory: 'Project-Root/README.md'",
     "output_type": "error",
     "traceback": [
      "\u001b[0;31m---------------------------------------------------------------------------\u001b[0m",
      "\u001b[0;31mFileNotFoundError\u001b[0m                         Traceback (most recent call last)",
      "Input \u001b[0;32mIn [20]\u001b[0m, in \u001b[0;36m<cell line: 1>\u001b[0;34m()\u001b[0m\n\u001b[0;32m----> 1\u001b[0m \u001b[43mget_ipython\u001b[49m\u001b[43m(\u001b[49m\u001b[43m)\u001b[49m\u001b[38;5;241;43m.\u001b[39;49m\u001b[43mrun_cell_magic\u001b[49m\u001b[43m(\u001b[49m\u001b[38;5;124;43m'\u001b[39;49m\u001b[38;5;124;43mwritefile\u001b[39;49m\u001b[38;5;124;43m'\u001b[39;49m\u001b[43m,\u001b[49m\u001b[43m \u001b[49m\u001b[38;5;124;43m'\u001b[39;49m\u001b[38;5;124;43mProject-Root/README.md\u001b[39;49m\u001b[38;5;124;43m'\u001b[39;49m\u001b[43m,\u001b[49m\u001b[43m \u001b[49m\u001b[38;5;124;43m\"\u001b[39;49m\u001b[38;5;130;43;01m\\n\u001b[39;49;00m\u001b[38;5;124;43m## Summary of OpenAlexSearch\u001b[39;49m\u001b[38;5;130;43;01m\\n\u001b[39;49;00m\u001b[38;5;124;43m## This project lists citations of a given literature OpenAlex ID (OAID) by combining the reference by the author and includes reference cited count.\u001b[39;49m\u001b[38;5;130;43;01m\\n\u001b[39;49;00m\u001b[38;5;130;43;01m\\n\u001b[39;49;00m\u001b[38;5;124;43m## Please clone the GitHUB repository here\u001b[39;49m\u001b[38;5;130;43;01m\\n\u001b[39;49;00m\u001b[38;5;124;43m## [https://github.com/Studentzipit/Project.git]\u001b[39;49m\u001b[38;5;130;43;01m\\n\u001b[39;49;00m\u001b[38;5;130;43;01m\\n\u001b[39;49;00m\u001b[38;5;124;43m## ---\u001b[39;49m\u001b[38;5;130;43;01m\\n\u001b[39;49;00m\u001b[38;5;124;43m## Installation\u001b[39;49m\u001b[38;5;130;43;01m\\n\u001b[39;49;00m\u001b[38;5;124;43m## ----\u001b[39;49m\u001b[38;5;130;43;01m\\n\u001b[39;49;00m\u001b[38;5;130;43;01m\\n\u001b[39;49;00m\u001b[38;5;124;43m## \u001b[39;49m\u001b[38;5;124;43m'\u001b[39;49m\u001b[38;5;124;43m'\u001b[39;49m\u001b[38;5;124;43mpip install.\u001b[39;49m\u001b[38;5;124;43m'\u001b[39;49m\u001b[38;5;124;43m'\u001b[39;49m\u001b[38;5;124;43m in OASpackage\u001b[39;49m\u001b[38;5;130;43;01m\\n\u001b[39;49;00m\u001b[38;5;130;43;01m\\n\u001b[39;49;00m\u001b[38;5;124;43m## Usage\u001b[39;49m\u001b[38;5;130;43;01m\\n\u001b[39;49;00m\u001b[38;5;124;43m## ---\u001b[39;49m\u001b[38;5;130;43;01m\\n\u001b[39;49;00m\u001b[38;5;130;43;01m\\n\u001b[39;49;00m\u001b[38;5;124;43m\"\u001b[39;49m\u001b[43m)\u001b[49m\n",
      "File \u001b[0;32m/opt/tljh/user/lib/python3.9/site-packages/IPython/core/interactiveshell.py:2358\u001b[0m, in \u001b[0;36mInteractiveShell.run_cell_magic\u001b[0;34m(self, magic_name, line, cell)\u001b[0m\n\u001b[1;32m   2356\u001b[0m \u001b[38;5;28;01mwith\u001b[39;00m \u001b[38;5;28mself\u001b[39m\u001b[38;5;241m.\u001b[39mbuiltin_trap:\n\u001b[1;32m   2357\u001b[0m     args \u001b[38;5;241m=\u001b[39m (magic_arg_s, cell)\n\u001b[0;32m-> 2358\u001b[0m     result \u001b[38;5;241m=\u001b[39m \u001b[43mfn\u001b[49m\u001b[43m(\u001b[49m\u001b[38;5;241;43m*\u001b[39;49m\u001b[43margs\u001b[49m\u001b[43m,\u001b[49m\u001b[43m \u001b[49m\u001b[38;5;241;43m*\u001b[39;49m\u001b[38;5;241;43m*\u001b[39;49m\u001b[43mkwargs\u001b[49m\u001b[43m)\u001b[49m\n\u001b[1;32m   2359\u001b[0m \u001b[38;5;28;01mreturn\u001b[39;00m result\n",
      "File \u001b[0;32m/opt/tljh/user/lib/python3.9/site-packages/IPython/core/magics/osm.py:853\u001b[0m, in \u001b[0;36mOSMagics.writefile\u001b[0;34m(self, line, cell)\u001b[0m\n\u001b[1;32m    850\u001b[0m     \u001b[38;5;28mprint\u001b[39m(\u001b[38;5;124m\"\u001b[39m\u001b[38;5;124mWriting \u001b[39m\u001b[38;5;132;01m%s\u001b[39;00m\u001b[38;5;124m\"\u001b[39m \u001b[38;5;241m%\u001b[39m filename)\n\u001b[1;32m    852\u001b[0m mode \u001b[38;5;241m=\u001b[39m \u001b[38;5;124m'\u001b[39m\u001b[38;5;124ma\u001b[39m\u001b[38;5;124m'\u001b[39m \u001b[38;5;28;01mif\u001b[39;00m args\u001b[38;5;241m.\u001b[39mappend \u001b[38;5;28;01melse\u001b[39;00m \u001b[38;5;124m'\u001b[39m\u001b[38;5;124mw\u001b[39m\u001b[38;5;124m'\u001b[39m\n\u001b[0;32m--> 853\u001b[0m \u001b[38;5;28;01mwith\u001b[39;00m \u001b[43mio\u001b[49m\u001b[38;5;241;43m.\u001b[39;49m\u001b[43mopen\u001b[49m\u001b[43m(\u001b[49m\u001b[43mfilename\u001b[49m\u001b[43m,\u001b[49m\u001b[43m \u001b[49m\u001b[43mmode\u001b[49m\u001b[43m,\u001b[49m\u001b[43m \u001b[49m\u001b[43mencoding\u001b[49m\u001b[38;5;241;43m=\u001b[39;49m\u001b[38;5;124;43m'\u001b[39;49m\u001b[38;5;124;43mutf-8\u001b[39;49m\u001b[38;5;124;43m'\u001b[39;49m\u001b[43m)\u001b[49m \u001b[38;5;28;01mas\u001b[39;00m f:\n\u001b[1;32m    854\u001b[0m     f\u001b[38;5;241m.\u001b[39mwrite(cell)\n",
      "\u001b[0;31mFileNotFoundError\u001b[0m: [Errno 2] No such file or directory: 'Project-Root/README.md'"
     ]
    }
   ],
   "source": [
    "%%writefile Project-Root/README.md\n",
    "\n",
    "## Summary of OpenAlexSearch\n",
    "## This project lists citations of a given literature OpenAlex ID (OAID) by combining the reference by the author and includes reference cited count.\n",
    "##\n",
    "## Please clone the GitHUB repository here\n",
    "## [https://github.com/Studentzipit/Project.git]\n",
    "\n",
    "## ---\n",
    "## Installation\n",
    "## ----\n",
    "\n",
    "## ''pip install.'' in OASpackage\n",
    "\n",
    "## Usage\n",
    "## ---\n",
    "\n"
   ]
  },
  {
   "cell_type": "markdown",
   "id": "6febd5f4-ac80-4f8d-85a1-9e2be13265ba",
   "metadata": {},
   "source": [
    "## License"
   ]
  },
  {
   "cell_type": "code",
   "execution_count": 7,
   "id": "f1e3fed8-e3d6-4580-a7f1-d854d71549f2",
   "metadata": {},
   "outputs": [
    {
     "name": "stdout",
     "output_type": "stream",
     "text": [
      "Writing ProjectOAS-Root/LICENSE\n"
     ]
    }
   ],
   "source": [
    "%%writefile ProjectOAS-Root/LICENSE\n",
    "Copyright 2024 Zachary Thompson\n",
    "\n",
    "Permission is hereby granted, free of charge, to any person obtaining a copy of this software and associated documentation files (the “Software”), to deal in the Software without restriction, including without limitation the rights to use, copy, modify, merge, publish, distribute, sublicense, and/or sell copies of the Software, and to permit persons to whom the Software is furnished to do so, subject to the following conditions:\n",
    "\n",
    "The above copyright notice and this permission notice shall be included in all copies or substantial portions of the Software.\n",
    "\n",
    "THE SOFTWARE IS PROVIDED “AS IS”, WITHOUT WARRANTY OF ANY KIND, EXPRESS OR IMPLIED, INCLUDING BUT NOT LIMITED TO THE WARRANTIES OF MERCHANTABILITY, FITNESS FOR A PARTICULAR PURPOSE AND NONINFRINGEMENT. IN NO EVENT SHALL THE AUTHORS OR COPYRIGHT HOLDERS BE LIABLE FOR ANY CLAIM, DAMAGES OR OTHER LIABILITY, WHETHER IN AN ACTION OF CONTRACT, TORT OR OTHERWISE, ARISING FROM, OUT OF OR IN CONNECTION WITH THE SOFTWARE OR THE USE OR OTHER DEALINGS IN THE SOFTWARE."
   ]
  },
  {
   "cell_type": "code",
   "execution_count": null,
   "id": "cc5383cc-5383-4f28-b174-149454d05ba2",
   "metadata": {},
   "outputs": [],
   "source": []
  },
  {
   "cell_type": "markdown",
   "id": "0963c0db",
   "metadata": {},
   "source": [
    "## Show the outline of your project\n",
    "\n",
    "Use the `tree` command to show the structure of your project here."
   ]
  },
  {
   "cell_type": "code",
   "execution_count": 17,
   "id": "7bf74da2-e37e-4651-a43f-39f45851a375",
   "metadata": {},
   "outputs": [
    {
     "name": "stdout",
     "output_type": "stream",
     "text": [
      "\u001b[01;34mProjectOAS-Root\u001b[00m\n",
      "├── \u001b[01;34mbuild\u001b[00m\n",
      "│   ├── __init__.py\n",
      "│   ├── main.py\n",
      "│   └── \u001b[01;34mUtilities\u001b[00m\n",
      "├── LICENSE\n",
      "├── \u001b[01;34mOASpackage\u001b[00m\n",
      "│   └── \u001b[01;34mutilities\u001b[00m\n",
      "├── README.md\n",
      "└── setup.py\n",
      "\n",
      "4 directories, 5 files\n"
     ]
    }
   ],
   "source": [
    "! tree ProjectOAS-Root"
   ]
  },
  {
   "cell_type": "markdown",
   "id": "851ccc9d-3821-4f6f-bef8-fa1f249cd7e5",
   "metadata": {},
   "source": [
    "## GitHUB\n",
    "\n",
    "Put a link to the GitHUB repo here."
   ]
  },
  {
   "cell_type": "code",
   "execution_count": null,
   "id": "b041969f-7da8-4308-9729-e1e8f7d82d75",
   "metadata": {},
   "outputs": [],
   "source": [
    "#Clone GitHub Repo\n",
    "! git clone https://github.com/Studentzipit/Project"
   ]
  },
  {
   "cell_type": "markdown",
   "id": "8f4aa046-824e-4602-813f-518290995de0",
   "metadata": {},
   "source": [
    "## Version control\n",
    "\n",
    "Describe your version control approach, and show that there is git history using the git log command."
   ]
  },
  {
   "cell_type": "code",
   "execution_count": null,
   "id": "ea93edcd-4ca3-4835-bb5e-67d66f0fef7f",
   "metadata": {},
   "outputs": [],
   "source": [
    "#set up in Github\n",
    "#Create a setup.py, and `pkg/__init__.py"
   ]
  },
  {
   "cell_type": "markdown",
   "id": "6e37f408-8db6-44c5-b828-b40892b9c92b",
   "metadata": {},
   "source": [
    "## Code quality tool\n",
    "\n",
    "Describe the code quality tool you used in your project, and show evidence here of how it is implemented and how it is used."
   ]
  },
  {
   "cell_type": "code",
   "execution_count": 1,
   "id": "8db51d25-1751-4e12-ba21-11c24fd6d670",
   "metadata": {},
   "outputs": [
    {
     "name": "stdout",
     "output_type": "stream",
     "text": [
      "Writing OASpackage/makefile\n"
     ]
    },
    {
     "ename": "FileNotFoundError",
     "evalue": "[Errno 2] No such file or directory: 'OASpackage/makefile'",
     "output_type": "error",
     "traceback": [
      "\u001b[0;31m---------------------------------------------------------------------------\u001b[0m",
      "\u001b[0;31mFileNotFoundError\u001b[0m                         Traceback (most recent call last)",
      "Input \u001b[0;32mIn [1]\u001b[0m, in \u001b[0;36m<cell line: 1>\u001b[0;34m()\u001b[0m\n\u001b[0;32m----> 1\u001b[0m \u001b[43mget_ipython\u001b[49m\u001b[43m(\u001b[49m\u001b[43m)\u001b[49m\u001b[38;5;241;43m.\u001b[39;49m\u001b[43mrun_cell_magic\u001b[49m\u001b[43m(\u001b[49m\u001b[38;5;124;43m'\u001b[39;49m\u001b[38;5;124;43mwritefile\u001b[39;49m\u001b[38;5;124;43m'\u001b[39;49m\u001b[43m,\u001b[49m\u001b[43m \u001b[49m\u001b[38;5;124;43m'\u001b[39;49m\u001b[38;5;124;43mOASpackage/makefile\u001b[39;49m\u001b[38;5;124;43m'\u001b[39;49m\u001b[43m,\u001b[49m\u001b[43m \u001b[49m\u001b[38;5;124;43m'\u001b[39;49m\u001b[38;5;124;43mflake8:\u001b[39;49m\u001b[38;5;130;43;01m\\n\u001b[39;49;00m\u001b[38;5;124;43m    flake8 --extend-ignore--exclude build,.ipynb_checkpoints,__pycache__,\u001b[39;49m\u001b[38;5;130;43;01m\\n\u001b[39;49;00m\u001b[38;5;124;43m    \u001b[39;49m\u001b[38;5;130;43;01m\\n\u001b[39;49;00m\u001b[38;5;124;43mblack:\u001b[39;49m\u001b[38;5;130;43;01m\\n\u001b[39;49;00m\u001b[38;5;124;43m    black .\u001b[39;49m\u001b[38;5;130;43;01m\\n\u001b[39;49;00m\u001b[38;5;124;43mtest:\u001b[39;49m\u001b[38;5;130;43;01m\\n\u001b[39;49;00m\u001b[38;5;124;43m    pytest .\u001b[39;49m\u001b[38;5;130;43;01m\\n\u001b[39;49;00m\u001b[38;5;124;43m    \u001b[39;49m\u001b[38;5;130;43;01m\\n\u001b[39;49;00m\u001b[38;5;124;43mall: black flake 8 test\u001b[39;49m\u001b[38;5;130;43;01m\\n\u001b[39;49;00m\u001b[38;5;130;43;01m\\n\u001b[39;49;00m\u001b[38;5;130;43;01m\\n\u001b[39;49;00m\u001b[38;5;124;43m'\u001b[39;49m\u001b[43m)\u001b[49m\n",
      "File \u001b[0;32m/opt/tljh/user/lib/python3.9/site-packages/IPython/core/interactiveshell.py:2358\u001b[0m, in \u001b[0;36mInteractiveShell.run_cell_magic\u001b[0;34m(self, magic_name, line, cell)\u001b[0m\n\u001b[1;32m   2356\u001b[0m \u001b[38;5;28;01mwith\u001b[39;00m \u001b[38;5;28mself\u001b[39m\u001b[38;5;241m.\u001b[39mbuiltin_trap:\n\u001b[1;32m   2357\u001b[0m     args \u001b[38;5;241m=\u001b[39m (magic_arg_s, cell)\n\u001b[0;32m-> 2358\u001b[0m     result \u001b[38;5;241m=\u001b[39m \u001b[43mfn\u001b[49m\u001b[43m(\u001b[49m\u001b[38;5;241;43m*\u001b[39;49m\u001b[43margs\u001b[49m\u001b[43m,\u001b[49m\u001b[43m \u001b[49m\u001b[38;5;241;43m*\u001b[39;49m\u001b[38;5;241;43m*\u001b[39;49m\u001b[43mkwargs\u001b[49m\u001b[43m)\u001b[49m\n\u001b[1;32m   2359\u001b[0m \u001b[38;5;28;01mreturn\u001b[39;00m result\n",
      "File \u001b[0;32m/opt/tljh/user/lib/python3.9/site-packages/IPython/core/magics/osm.py:853\u001b[0m, in \u001b[0;36mOSMagics.writefile\u001b[0;34m(self, line, cell)\u001b[0m\n\u001b[1;32m    850\u001b[0m     \u001b[38;5;28mprint\u001b[39m(\u001b[38;5;124m\"\u001b[39m\u001b[38;5;124mWriting \u001b[39m\u001b[38;5;132;01m%s\u001b[39;00m\u001b[38;5;124m\"\u001b[39m \u001b[38;5;241m%\u001b[39m filename)\n\u001b[1;32m    852\u001b[0m mode \u001b[38;5;241m=\u001b[39m \u001b[38;5;124m'\u001b[39m\u001b[38;5;124ma\u001b[39m\u001b[38;5;124m'\u001b[39m \u001b[38;5;28;01mif\u001b[39;00m args\u001b[38;5;241m.\u001b[39mappend \u001b[38;5;28;01melse\u001b[39;00m \u001b[38;5;124m'\u001b[39m\u001b[38;5;124mw\u001b[39m\u001b[38;5;124m'\u001b[39m\n\u001b[0;32m--> 853\u001b[0m \u001b[38;5;28;01mwith\u001b[39;00m \u001b[43mio\u001b[49m\u001b[38;5;241;43m.\u001b[39;49m\u001b[43mopen\u001b[49m\u001b[43m(\u001b[49m\u001b[43mfilename\u001b[49m\u001b[43m,\u001b[49m\u001b[43m \u001b[49m\u001b[43mmode\u001b[49m\u001b[43m,\u001b[49m\u001b[43m \u001b[49m\u001b[43mencoding\u001b[49m\u001b[38;5;241;43m=\u001b[39;49m\u001b[38;5;124;43m'\u001b[39;49m\u001b[38;5;124;43mutf-8\u001b[39;49m\u001b[38;5;124;43m'\u001b[39;49m\u001b[43m)\u001b[49m \u001b[38;5;28;01mas\u001b[39;00m f:\n\u001b[1;32m    854\u001b[0m     f\u001b[38;5;241m.\u001b[39mwrite(cell)\n",
      "\u001b[0;31mFileNotFoundError\u001b[0m: [Errno 2] No such file or directory: 'OASpackage/makefile'"
     ]
    }
   ],
   "source": [
    "%%writefile OASpackage/makefile\n",
    "flake8:\n",
    "    flake8 --extend-ignore--exclude build,.ipynb_checkpoints,__pycache__,\n",
    "    \n",
    "black:\n",
    "    black .\n",
    "test:\n",
    "    pytest .\n",
    "    \n",
    "all: black flake 8 test\n",
    "\n",
    "\n"
   ]
  },
  {
   "cell_type": "markdown",
   "id": "c28613ff-ee93-482e-8bec-e3d8d28a5de8",
   "metadata": {},
   "source": [
    "## Tests\n",
    "\n",
    "Describe the tests you built into your project and how they help ensure the project works, and that changes don't break functionality. In the cells below show how you run the tests, and that they work."
   ]
  },
  {
   "cell_type": "code",
   "execution_count": null,
   "id": "0f0de12d-c16f-4aac-868c-11f0d072eb3e",
   "metadata": {
    "nbgrader": {
     "grade": true,
     "grade_id": "cell-92da3734a5a2e41e",
     "locked": false,
     "points": 0,
     "schema_version": 3,
     "solution": true,
     "task": false
    },
    "tags": []
   },
   "outputs": [],
   "source": []
  },
  {
   "cell_type": "code",
   "execution_count": null,
   "id": "68ba6492-ce71-4c8a-9a98-768748401739",
   "metadata": {},
   "outputs": [],
   "source": [
    "#Run pytest\n",
    "\n",
    "#Choose to ignore files via !pylint --ignore build,.ipynb_checkpoints package"
   ]
  },
  {
   "cell_type": "code",
   "execution_count": 26,
   "id": "517342f9-7585-4a16-87e9-00430b4304b5",
   "metadata": {},
   "outputs": [
    {
     "name": "stdout",
     "output_type": "stream",
     "text": [
      "\u001b[1m============================= test session starts ==============================\u001b[0m\n",
      "platform linux -- Python 3.9.7, pytest-7.2.2, pluggy-1.3.0\n",
      "rootdir: /home/jupyter-zpt@andrew.cmu.edu-4d0bb/s24-06643/sse/assignments/project/ProjectOAS-Root\n",
      "plugins: typeguard-2.13.3, anyio-3.6.1\n",
      "collected 0 items                                                              \u001b[0m\n",
      "\n",
      "\u001b[33m============================ \u001b[33mno tests ran\u001b[0m\u001b[33m in 0.01s\u001b[0m\u001b[33m =============================\u001b[0m\n"
     ]
    }
   ],
   "source": [
    "! pytest ProjectOAS-Root\n",
    "#Tests to pass"
   ]
  },
  {
   "cell_type": "markdown",
   "id": "5cae98db-a1fa-49b8-adb2-1fa86056836b",
   "metadata": {},
   "source": []
  },
  {
   "cell_type": "markdown",
   "id": "613d1a50-b2bb-41c8-b643-4883566ecee7",
   "metadata": {},
   "source": [
    "When you are done, download a PDF and turn it in on Canvas. Make sure to save your notebook, then run this cell and click on the download link."
   ]
  },
  {
   "cell_type": "code",
   "execution_count": 28,
   "id": "d39da989-d274-4dc2-a01a-51a59375ffd9",
   "metadata": {
    "tags": [
     "raises-exception",
     "remove-output"
    ]
   },
   "outputs": [
    {
     "data": {
      "text/markdown": [
       "[Open project.pdf](project.pdf)"
      ],
      "text/plain": [
       "<IPython.core.display.Markdown object>"
      ]
     },
     "metadata": {},
     "output_type": "display_data"
    },
    {
     "data": {
      "text/html": [
       "<a href=\"project.pdf\" download=\"project.pdf\">download project.pdf</a>"
      ],
      "text/plain": [
       "<IPython.core.display.HTML object>"
      ]
     },
     "metadata": {},
     "output_type": "display_data"
    }
   ],
   "source": [
    "%run ~/s24-06643/s24.py\n",
    "%pdf"
   ]
  },
  {
   "cell_type": "markdown",
   "id": "6a974f57-c57c-4441-b2c9-4c6bc4a31ff7",
   "metadata": {},
   "source": [
    "\n",
    "\n"
   ]
  }
 ],
 "metadata": {
  "kernelspec": {
   "display_name": "Python 3 (ipykernel)",
   "language": "python",
   "name": "python3"
  },
  "language_info": {
   "codemirror_mode": {
    "name": "ipython",
    "version": 3
   },
   "file_extension": ".py",
   "mimetype": "text/x-python",
   "name": "python",
   "nbconvert_exporter": "python",
   "pygments_lexer": "ipython3",
   "version": "3.11.7"
  },
  "widgets": {
   "application/vnd.jupyter.widget-state+json": {
    "state": {},
    "version_major": 2,
    "version_minor": 0
   }
  }
 },
 "nbformat": 4,
 "nbformat_minor": 5
}
